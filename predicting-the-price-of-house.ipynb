{
 "cells": [
  {
   "cell_type": "code",
   "execution_count": 1,
   "id": "971de04f",
   "metadata": {
    "execution": {
     "iopub.execute_input": "2022-01-21T16:41:36.626415Z",
     "iopub.status.busy": "2022-01-21T16:41:36.624498Z",
     "iopub.status.idle": "2022-01-21T16:41:37.987536Z",
     "shell.execute_reply": "2022-01-21T16:41:37.986755Z",
     "shell.execute_reply.started": "2022-01-21T16:38:09.252808Z"
    },
    "papermill": {
     "duration": 1.384178,
     "end_time": "2022-01-21T16:41:37.987734",
     "exception": false,
     "start_time": "2022-01-21T16:41:36.603556",
     "status": "completed"
    },
    "tags": []
   },
   "outputs": [],
   "source": [
    "# Import the Library\n",
    "import pandas as pd\n",
    "import numpy as np\n",
    "import matplotlib.pyplot as plt\n",
    "import seaborn as sns\n",
    "from sklearn import metrics\n",
    "from sklearn.datasets import load_boston\n",
    "\n",
    "%matplotlib inline\n",
    "sns.set_style(\"whitegrid\")\n",
    "plt.style.use(\"fivethirtyeight\")"
   ]
  },
  {
   "cell_type": "code",
   "execution_count": 2,
   "id": "790481e8",
   "metadata": {
    "execution": {
     "iopub.execute_input": "2022-01-21T16:41:38.019891Z",
     "iopub.status.busy": "2022-01-21T16:41:38.019066Z",
     "iopub.status.idle": "2022-01-21T16:41:38.032166Z",
     "shell.execute_reply": "2022-01-21T16:41:38.032856Z",
     "shell.execute_reply.started": "2022-01-21T16:38:16.501543Z"
    },
    "papermill": {
     "duration": 0.031534,
     "end_time": "2022-01-21T16:41:38.033045",
     "exception": false,
     "start_time": "2022-01-21T16:41:38.001511",
     "status": "completed"
    },
    "tags": []
   },
   "outputs": [],
   "source": [
    "# import load_boston dataset\n",
    "boston = load_boston()"
   ]
  },
  {
   "cell_type": "code",
   "execution_count": 3,
   "id": "14d939b3",
   "metadata": {
    "execution": {
     "iopub.execute_input": "2022-01-21T16:41:38.065680Z",
     "iopub.status.busy": "2022-01-21T16:41:38.064910Z",
     "iopub.status.idle": "2022-01-21T16:41:38.070405Z",
     "shell.execute_reply": "2022-01-21T16:41:38.069836Z",
     "shell.execute_reply.started": "2022-01-21T16:38:28.291676Z"
    },
    "papermill": {
     "duration": 0.022038,
     "end_time": "2022-01-21T16:41:38.070568",
     "exception": false,
     "start_time": "2022-01-21T16:41:38.048530",
     "status": "completed"
    },
    "tags": []
   },
   "outputs": [],
   "source": [
    "data = pd.DataFrame(boston.data)"
   ]
  },
  {
   "cell_type": "code",
   "execution_count": 4,
   "id": "b715bf64",
   "metadata": {
    "execution": {
     "iopub.execute_input": "2022-01-21T16:41:38.111237Z",
     "iopub.status.busy": "2022-01-21T16:41:38.110387Z",
     "iopub.status.idle": "2022-01-21T16:41:38.138016Z",
     "shell.execute_reply": "2022-01-21T16:41:38.138559Z",
     "shell.execute_reply.started": "2022-01-21T16:38:39.151589Z"
    },
    "papermill": {
     "duration": 0.051991,
     "end_time": "2022-01-21T16:41:38.138735",
     "exception": false,
     "start_time": "2022-01-21T16:41:38.086744",
     "status": "completed"
    },
    "tags": []
   },
   "outputs": [
    {
     "data": {
      "text/html": [
       "<div>\n",
       "<style scoped>\n",
       "    .dataframe tbody tr th:only-of-type {\n",
       "        vertical-align: middle;\n",
       "    }\n",
       "\n",
       "    .dataframe tbody tr th {\n",
       "        vertical-align: top;\n",
       "    }\n",
       "\n",
       "    .dataframe thead th {\n",
       "        text-align: right;\n",
       "    }\n",
       "</style>\n",
       "<table border=\"1\" class=\"dataframe\">\n",
       "  <thead>\n",
       "    <tr style=\"text-align: right;\">\n",
       "      <th></th>\n",
       "      <th>0</th>\n",
       "      <th>1</th>\n",
       "      <th>2</th>\n",
       "      <th>3</th>\n",
       "      <th>4</th>\n",
       "      <th>5</th>\n",
       "      <th>6</th>\n",
       "      <th>7</th>\n",
       "      <th>8</th>\n",
       "      <th>9</th>\n",
       "      <th>10</th>\n",
       "      <th>11</th>\n",
       "      <th>12</th>\n",
       "    </tr>\n",
       "  </thead>\n",
       "  <tbody>\n",
       "    <tr>\n",
       "      <th>0</th>\n",
       "      <td>0.00632</td>\n",
       "      <td>18.0</td>\n",
       "      <td>2.31</td>\n",
       "      <td>0.0</td>\n",
       "      <td>0.538</td>\n",
       "      <td>6.575</td>\n",
       "      <td>65.2</td>\n",
       "      <td>4.0900</td>\n",
       "      <td>1.0</td>\n",
       "      <td>296.0</td>\n",
       "      <td>15.3</td>\n",
       "      <td>396.90</td>\n",
       "      <td>4.98</td>\n",
       "    </tr>\n",
       "    <tr>\n",
       "      <th>1</th>\n",
       "      <td>0.02731</td>\n",
       "      <td>0.0</td>\n",
       "      <td>7.07</td>\n",
       "      <td>0.0</td>\n",
       "      <td>0.469</td>\n",
       "      <td>6.421</td>\n",
       "      <td>78.9</td>\n",
       "      <td>4.9671</td>\n",
       "      <td>2.0</td>\n",
       "      <td>242.0</td>\n",
       "      <td>17.8</td>\n",
       "      <td>396.90</td>\n",
       "      <td>9.14</td>\n",
       "    </tr>\n",
       "    <tr>\n",
       "      <th>2</th>\n",
       "      <td>0.02729</td>\n",
       "      <td>0.0</td>\n",
       "      <td>7.07</td>\n",
       "      <td>0.0</td>\n",
       "      <td>0.469</td>\n",
       "      <td>7.185</td>\n",
       "      <td>61.1</td>\n",
       "      <td>4.9671</td>\n",
       "      <td>2.0</td>\n",
       "      <td>242.0</td>\n",
       "      <td>17.8</td>\n",
       "      <td>392.83</td>\n",
       "      <td>4.03</td>\n",
       "    </tr>\n",
       "    <tr>\n",
       "      <th>3</th>\n",
       "      <td>0.03237</td>\n",
       "      <td>0.0</td>\n",
       "      <td>2.18</td>\n",
       "      <td>0.0</td>\n",
       "      <td>0.458</td>\n",
       "      <td>6.998</td>\n",
       "      <td>45.8</td>\n",
       "      <td>6.0622</td>\n",
       "      <td>3.0</td>\n",
       "      <td>222.0</td>\n",
       "      <td>18.7</td>\n",
       "      <td>394.63</td>\n",
       "      <td>2.94</td>\n",
       "    </tr>\n",
       "    <tr>\n",
       "      <th>4</th>\n",
       "      <td>0.06905</td>\n",
       "      <td>0.0</td>\n",
       "      <td>2.18</td>\n",
       "      <td>0.0</td>\n",
       "      <td>0.458</td>\n",
       "      <td>7.147</td>\n",
       "      <td>54.2</td>\n",
       "      <td>6.0622</td>\n",
       "      <td>3.0</td>\n",
       "      <td>222.0</td>\n",
       "      <td>18.7</td>\n",
       "      <td>396.90</td>\n",
       "      <td>5.33</td>\n",
       "    </tr>\n",
       "  </tbody>\n",
       "</table>\n",
       "</div>"
      ],
      "text/plain": [
       "        0     1     2    3      4      5     6       7    8      9     10  \\\n",
       "0  0.00632  18.0  2.31  0.0  0.538  6.575  65.2  4.0900  1.0  296.0  15.3   \n",
       "1  0.02731   0.0  7.07  0.0  0.469  6.421  78.9  4.9671  2.0  242.0  17.8   \n",
       "2  0.02729   0.0  7.07  0.0  0.469  7.185  61.1  4.9671  2.0  242.0  17.8   \n",
       "3  0.03237   0.0  2.18  0.0  0.458  6.998  45.8  6.0622  3.0  222.0  18.7   \n",
       "4  0.06905   0.0  2.18  0.0  0.458  7.147  54.2  6.0622  3.0  222.0  18.7   \n",
       "\n",
       "       11    12  \n",
       "0  396.90  4.98  \n",
       "1  396.90  9.14  \n",
       "2  392.83  4.03  \n",
       "3  394.63  2.94  \n",
       "4  396.90  5.33  "
      ]
     },
     "execution_count": 4,
     "metadata": {},
     "output_type": "execute_result"
    }
   ],
   "source": [
    "data.head()"
   ]
  },
  {
   "cell_type": "code",
   "execution_count": 5,
   "id": "0ea443c1",
   "metadata": {
    "execution": {
     "iopub.execute_input": "2022-01-21T16:41:38.175360Z",
     "iopub.status.busy": "2022-01-21T16:41:38.169195Z",
     "iopub.status.idle": "2022-01-21T16:41:38.198833Z",
     "shell.execute_reply": "2022-01-21T16:41:38.199352Z",
     "shell.execute_reply.started": "2022-01-21T16:38:55.325331Z"
    },
    "papermill": {
     "duration": 0.047083,
     "end_time": "2022-01-21T16:41:38.199532",
     "exception": false,
     "start_time": "2022-01-21T16:41:38.152449",
     "status": "completed"
    },
    "tags": []
   },
   "outputs": [
    {
     "data": {
      "text/html": [
       "<div>\n",
       "<style scoped>\n",
       "    .dataframe tbody tr th:only-of-type {\n",
       "        vertical-align: middle;\n",
       "    }\n",
       "\n",
       "    .dataframe tbody tr th {\n",
       "        vertical-align: top;\n",
       "    }\n",
       "\n",
       "    .dataframe thead th {\n",
       "        text-align: right;\n",
       "    }\n",
       "</style>\n",
       "<table border=\"1\" class=\"dataframe\">\n",
       "  <thead>\n",
       "    <tr style=\"text-align: right;\">\n",
       "      <th></th>\n",
       "      <th>CRIM</th>\n",
       "      <th>ZN</th>\n",
       "      <th>INDUS</th>\n",
       "      <th>CHAS</th>\n",
       "      <th>NOX</th>\n",
       "      <th>RM</th>\n",
       "      <th>AGE</th>\n",
       "      <th>DIS</th>\n",
       "      <th>RAD</th>\n",
       "      <th>TAX</th>\n",
       "      <th>PTRATIO</th>\n",
       "      <th>B</th>\n",
       "      <th>LSTAT</th>\n",
       "    </tr>\n",
       "  </thead>\n",
       "  <tbody>\n",
       "    <tr>\n",
       "      <th>0</th>\n",
       "      <td>0.00632</td>\n",
       "      <td>18.0</td>\n",
       "      <td>2.31</td>\n",
       "      <td>0.0</td>\n",
       "      <td>0.538</td>\n",
       "      <td>6.575</td>\n",
       "      <td>65.2</td>\n",
       "      <td>4.0900</td>\n",
       "      <td>1.0</td>\n",
       "      <td>296.0</td>\n",
       "      <td>15.3</td>\n",
       "      <td>396.90</td>\n",
       "      <td>4.98</td>\n",
       "    </tr>\n",
       "    <tr>\n",
       "      <th>1</th>\n",
       "      <td>0.02731</td>\n",
       "      <td>0.0</td>\n",
       "      <td>7.07</td>\n",
       "      <td>0.0</td>\n",
       "      <td>0.469</td>\n",
       "      <td>6.421</td>\n",
       "      <td>78.9</td>\n",
       "      <td>4.9671</td>\n",
       "      <td>2.0</td>\n",
       "      <td>242.0</td>\n",
       "      <td>17.8</td>\n",
       "      <td>396.90</td>\n",
       "      <td>9.14</td>\n",
       "    </tr>\n",
       "    <tr>\n",
       "      <th>2</th>\n",
       "      <td>0.02729</td>\n",
       "      <td>0.0</td>\n",
       "      <td>7.07</td>\n",
       "      <td>0.0</td>\n",
       "      <td>0.469</td>\n",
       "      <td>7.185</td>\n",
       "      <td>61.1</td>\n",
       "      <td>4.9671</td>\n",
       "      <td>2.0</td>\n",
       "      <td>242.0</td>\n",
       "      <td>17.8</td>\n",
       "      <td>392.83</td>\n",
       "      <td>4.03</td>\n",
       "    </tr>\n",
       "    <tr>\n",
       "      <th>3</th>\n",
       "      <td>0.03237</td>\n",
       "      <td>0.0</td>\n",
       "      <td>2.18</td>\n",
       "      <td>0.0</td>\n",
       "      <td>0.458</td>\n",
       "      <td>6.998</td>\n",
       "      <td>45.8</td>\n",
       "      <td>6.0622</td>\n",
       "      <td>3.0</td>\n",
       "      <td>222.0</td>\n",
       "      <td>18.7</td>\n",
       "      <td>394.63</td>\n",
       "      <td>2.94</td>\n",
       "    </tr>\n",
       "    <tr>\n",
       "      <th>4</th>\n",
       "      <td>0.06905</td>\n",
       "      <td>0.0</td>\n",
       "      <td>2.18</td>\n",
       "      <td>0.0</td>\n",
       "      <td>0.458</td>\n",
       "      <td>7.147</td>\n",
       "      <td>54.2</td>\n",
       "      <td>6.0622</td>\n",
       "      <td>3.0</td>\n",
       "      <td>222.0</td>\n",
       "      <td>18.7</td>\n",
       "      <td>396.90</td>\n",
       "      <td>5.33</td>\n",
       "    </tr>\n",
       "  </tbody>\n",
       "</table>\n",
       "</div>"
      ],
      "text/plain": [
       "      CRIM    ZN  INDUS  CHAS    NOX     RM   AGE     DIS  RAD    TAX  \\\n",
       "0  0.00632  18.0   2.31   0.0  0.538  6.575  65.2  4.0900  1.0  296.0   \n",
       "1  0.02731   0.0   7.07   0.0  0.469  6.421  78.9  4.9671  2.0  242.0   \n",
       "2  0.02729   0.0   7.07   0.0  0.469  7.185  61.1  4.9671  2.0  242.0   \n",
       "3  0.03237   0.0   2.18   0.0  0.458  6.998  45.8  6.0622  3.0  222.0   \n",
       "4  0.06905   0.0   2.18   0.0  0.458  7.147  54.2  6.0622  3.0  222.0   \n",
       "\n",
       "   PTRATIO       B  LSTAT  \n",
       "0     15.3  396.90   4.98  \n",
       "1     17.8  396.90   9.14  \n",
       "2     17.8  392.83   4.03  \n",
       "3     18.7  394.63   2.94  \n",
       "4     18.7  396.90   5.33  "
      ]
     },
     "execution_count": 5,
     "metadata": {},
     "output_type": "execute_result"
    }
   ],
   "source": [
    "data.columns = boston.feature_names\n",
    "data.head()"
   ]
  },
  {
   "cell_type": "code",
   "execution_count": 6,
   "id": "e5af7207",
   "metadata": {
    "execution": {
     "iopub.execute_input": "2022-01-21T16:41:38.238852Z",
     "iopub.status.busy": "2022-01-21T16:41:38.238062Z",
     "iopub.status.idle": "2022-01-21T16:41:38.239556Z",
     "shell.execute_reply": "2022-01-21T16:41:38.240039Z",
     "shell.execute_reply.started": "2022-01-21T16:39:07.950048Z"
    },
    "papermill": {
     "duration": 0.026695,
     "end_time": "2022-01-21T16:41:38.240240",
     "exception": false,
     "start_time": "2022-01-21T16:41:38.213545",
     "status": "completed"
    },
    "tags": []
   },
   "outputs": [],
   "source": [
    "#Adding target variable to dataframe\n",
    "data['PRICE'] = boston.target \n",
    "# Median value of owner-occupied homes in $1000"
   ]
  },
  {
   "cell_type": "code",
   "execution_count": 7,
   "id": "7c7f9772",
   "metadata": {
    "execution": {
     "iopub.execute_input": "2022-01-21T16:41:38.274125Z",
     "iopub.status.busy": "2022-01-21T16:41:38.273297Z",
     "iopub.status.idle": "2022-01-21T16:41:38.280528Z",
     "shell.execute_reply": "2022-01-21T16:41:38.281094Z",
     "shell.execute_reply.started": "2022-01-21T16:39:27.867276Z"
    },
    "papermill": {
     "duration": 0.026388,
     "end_time": "2022-01-21T16:41:38.281311",
     "exception": false,
     "start_time": "2022-01-21T16:41:38.254923",
     "status": "completed"
    },
    "tags": []
   },
   "outputs": [
    {
     "data": {
      "text/plain": [
       "CRIM       0\n",
       "ZN         0\n",
       "INDUS      0\n",
       "CHAS       0\n",
       "NOX        0\n",
       "RM         0\n",
       "AGE        0\n",
       "DIS        0\n",
       "RAD        0\n",
       "TAX        0\n",
       "PTRATIO    0\n",
       "B          0\n",
       "LSTAT      0\n",
       "PRICE      0\n",
       "dtype: int64"
      ]
     },
     "execution_count": 7,
     "metadata": {},
     "output_type": "execute_result"
    }
   ],
   "source": [
    "data.isnull().sum()"
   ]
  },
  {
   "cell_type": "code",
   "execution_count": 8,
   "id": "b83831a7",
   "metadata": {
    "execution": {
     "iopub.execute_input": "2022-01-21T16:41:38.314761Z",
     "iopub.status.busy": "2022-01-21T16:41:38.313822Z",
     "iopub.status.idle": "2022-01-21T16:41:38.326200Z",
     "shell.execute_reply": "2022-01-21T16:41:38.325566Z",
     "shell.execute_reply.started": "2022-01-21T16:39:44.834548Z"
    },
    "papermill": {
     "duration": 0.030005,
     "end_time": "2022-01-21T16:41:38.326359",
     "exception": false,
     "start_time": "2022-01-21T16:41:38.296354",
     "status": "completed"
    },
    "tags": []
   },
   "outputs": [],
   "source": [
    "# Spliting target variable and independent variables\n",
    "X = data.drop(['PRICE'], axis = 1)\n",
    "y = data['PRICE']"
   ]
  },
  {
   "cell_type": "code",
   "execution_count": 9,
   "id": "e24a54fd",
   "metadata": {
    "execution": {
     "iopub.execute_input": "2022-01-21T16:41:38.362625Z",
     "iopub.status.busy": "2022-01-21T16:41:38.361942Z",
     "iopub.status.idle": "2022-01-21T16:41:38.380122Z",
     "shell.execute_reply": "2022-01-21T16:41:38.379473Z",
     "shell.execute_reply.started": "2022-01-21T16:39:55.803120Z"
    },
    "papermill": {
     "duration": 0.039079,
     "end_time": "2022-01-21T16:41:38.380278",
     "exception": false,
     "start_time": "2022-01-21T16:41:38.341199",
     "status": "completed"
    },
    "tags": []
   },
   "outputs": [],
   "source": [
    "# Splitting to training and testing data\n",
    "\n",
    "from sklearn.model_selection import train_test_split\n",
    "X_train, X_test, y_train, y_test = train_test_split(X,y, test_size = 0.3, random_state = 4)"
   ]
  },
  {
   "cell_type": "code",
   "execution_count": 10,
   "id": "ecaa6af5",
   "metadata": {
    "execution": {
     "iopub.execute_input": "2022-01-21T16:41:38.414784Z",
     "iopub.status.busy": "2022-01-21T16:41:38.414129Z",
     "iopub.status.idle": "2022-01-21T16:41:38.852808Z",
     "shell.execute_reply": "2022-01-21T16:41:38.851820Z",
     "shell.execute_reply.started": "2022-01-21T16:40:08.333638Z"
    },
    "papermill": {
     "duration": 0.458237,
     "end_time": "2022-01-21T16:41:38.852953",
     "exception": false,
     "start_time": "2022-01-21T16:41:38.394716",
     "status": "completed"
    },
    "tags": []
   },
   "outputs": [
    {
     "data": {
      "text/plain": [
       "XGBRegressor(base_score=0.5, booster='gbtree', colsample_bylevel=1,\n",
       "             colsample_bynode=1, colsample_bytree=1, enable_categorical=False,\n",
       "             gamma=0, gpu_id=-1, importance_type=None,\n",
       "             interaction_constraints='', learning_rate=0.300000012,\n",
       "             max_delta_step=0, max_depth=6, min_child_weight=1, missing=nan,\n",
       "             monotone_constraints='()', n_estimators=100, n_jobs=4,\n",
       "             num_parallel_tree=1, predictor='auto', random_state=0, reg_alpha=0,\n",
       "             reg_lambda=1, scale_pos_weight=1, subsample=1, tree_method='exact',\n",
       "             validate_parameters=1, verbosity=None)"
      ]
     },
     "execution_count": 10,
     "metadata": {},
     "output_type": "execute_result"
    }
   ],
   "source": [
    "# Import XGBoost Regressor\n",
    "from xgboost import XGBRegressor\n",
    "\n",
    "#Create a XGBoost Regressor\n",
    "reg = XGBRegressor()\n",
    "\n",
    "# Train the model using the training sets \n",
    "reg.fit(X_train, y_train)"
   ]
  },
  {
   "cell_type": "code",
   "execution_count": 11,
   "id": "c6cf2586",
   "metadata": {
    "execution": {
     "iopub.execute_input": "2022-01-21T16:41:38.891061Z",
     "iopub.status.busy": "2022-01-21T16:41:38.890379Z",
     "iopub.status.idle": "2022-01-21T16:41:38.905609Z",
     "shell.execute_reply": "2022-01-21T16:41:38.906356Z",
     "shell.execute_reply.started": "2022-01-21T16:40:22.852095Z"
    },
    "papermill": {
     "duration": 0.038701,
     "end_time": "2022-01-21T16:41:38.906564",
     "exception": false,
     "start_time": "2022-01-21T16:41:38.867863",
     "status": "completed"
    },
    "tags": []
   },
   "outputs": [
    {
     "name": "stdout",
     "output_type": "stream",
     "text": [
      "R^2: 0.9999980912185324\n",
      "Adjusted R^2: 0.9999980182357117\n",
      "MAE: 0.008653184923075066\n",
      "MSE: 0.00014367556470779537\n",
      "RMSE: 0.011986474240067234\n"
     ]
    }
   ],
   "source": [
    "# Train Dataset Model\n",
    "\n",
    "# Model prediction on train data\n",
    "y_pred = reg.predict(X_train)\n",
    "\n",
    "\n",
    "# Model Evaluation\n",
    "print('R^2:',metrics.r2_score(y_train, y_pred))\n",
    "print('Adjusted R^2:',1 - (1-metrics.r2_score(y_train, y_pred))*(len(y_train)-1)/(len(y_train)-X_train.shape[1]-1))\n",
    "print('MAE:',metrics.mean_absolute_error(y_train, y_pred))\n",
    "print('MSE:',metrics.mean_squared_error(y_train, y_pred))\n",
    "print('RMSE:',np.sqrt(metrics.mean_squared_error(y_train, y_pred)))"
   ]
  },
  {
   "cell_type": "code",
   "execution_count": 12,
   "id": "bf4707f3",
   "metadata": {
    "execution": {
     "iopub.execute_input": "2022-01-21T16:41:38.950358Z",
     "iopub.status.busy": "2022-01-21T16:41:38.941503Z",
     "iopub.status.idle": "2022-01-21T16:41:39.235841Z",
     "shell.execute_reply": "2022-01-21T16:41:39.235177Z",
     "shell.execute_reply.started": "2022-01-21T16:40:35.299593Z"
    },
    "papermill": {
     "duration": 0.312448,
     "end_time": "2022-01-21T16:41:39.235982",
     "exception": false,
     "start_time": "2022-01-21T16:41:38.923534",
     "status": "completed"
    },
    "tags": []
   },
   "outputs": [
    {
     "data": {
      "image/png": "[encoded data removed]",
      "text/plain": [
       "<Figure size 432x288 with 1 Axes>"
      ]
     },
     "metadata": {},
     "output_type": "display_data"
    }
   ],
   "source": [
    "# Visualizing the differences between actual prices and predicted values\n",
    "plt.scatter(y_train, y_pred)\n",
    "plt.xlabel(\"Prices\")\n",
    "plt.ylabel(\"Predicted prices\")\n",
    "plt.title(\"Prices vs Predicted prices\")\n",
    "plt.show()"
   ]
  },
  {
   "cell_type": "code",
   "execution_count": 13,
   "id": "9aa22222",
   "metadata": {
    "execution": {
     "iopub.execute_input": "2022-01-21T16:41:39.291378Z",
     "iopub.status.busy": "2022-01-21T16:41:39.290496Z",
     "iopub.status.idle": "2022-01-21T16:41:39.536058Z",
     "shell.execute_reply": "2022-01-21T16:41:39.535389Z",
     "shell.execute_reply.started": "2022-01-21T16:40:48.618429Z"
    },
    "papermill": {
     "duration": 0.283624,
     "end_time": "2022-01-21T16:41:39.536200",
     "exception": false,
     "start_time": "2022-01-21T16:41:39.252576",
     "status": "completed"
    },
    "tags": []
   },
   "outputs": [
    {
     "data": {
      "image/png": "[encoded data removed]",
      "text/plain": [
       "<Figure size 432x288 with 1 Axes>"
      ]
     },
     "metadata": {},
     "output_type": "display_data"
    }
   ],
   "source": [
    "# Checking residuals\n",
    "plt.scatter(y_pred,y_train-y_pred)\n",
    "plt.title(\"Predicted vs residuals\")\n",
    "plt.xlabel(\"Predicted\")\n",
    "plt.ylabel(\"Residuals\")\n",
    "plt.show()"
   ]
  },
  {
   "cell_type": "code",
   "execution_count": 14,
   "id": "912d9d9d",
   "metadata": {
    "execution": {
     "iopub.execute_input": "2022-01-21T16:41:39.580189Z",
     "iopub.status.busy": "2022-01-21T16:41:39.579541Z",
     "iopub.status.idle": "2022-01-21T16:41:39.602319Z",
     "shell.execute_reply": "2022-01-21T16:41:39.602897Z",
     "shell.execute_reply.started": "2022-01-21T16:41:02.317766Z"
    },
    "papermill": {
     "duration": 0.049276,
     "end_time": "2022-01-21T16:41:39.603094",
     "exception": false,
     "start_time": "2022-01-21T16:41:39.553818",
     "status": "completed"
    },
    "tags": []
   },
   "outputs": [
    {
     "name": "stdout",
     "output_type": "stream",
     "text": [
      "R^2: 0.8579951986672496\n",
      "Adjusted R^2: 0.8446179347735847\n",
      "MAE: 2.5309582503218397\n",
      "MSE: 14.828151619536392\n",
      "RMSE: 3.850733906612659\n"
     ]
    }
   ],
   "source": [
    "# Test Dataset Model\n",
    "\n",
    "#Predicting Test data with the model\n",
    "y_test_pred = reg.predict(X_test)\n",
    "\n",
    "\n",
    "# Model Evaluation\n",
    "acc_xgb = metrics.r2_score(y_test, y_test_pred)\n",
    "print('R^2:', acc_xgb)\n",
    "print('Adjusted R^2:',1 - (1-metrics.r2_score(y_test, y_test_pred))*(len(y_test)-1)/(len(y_test)-X_test.shape[1]-1))\n",
    "print('MAE:',metrics.mean_absolute_error(y_test, y_test_pred))\n",
    "print('MSE:',metrics.mean_squared_error(y_test, y_test_pred))\n",
    "print('RMSE:',np.sqrt(metrics.mean_squared_error(y_test, y_test_pred)))"
   ]
  },
  {
   "cell_type": "code",
   "execution_count": null,
   "id": "9bd0267f",
   "metadata": {
    "papermill": {
     "duration": 0.017696,
     "end_time": "2022-01-21T16:41:39.639422",
     "exception": false,
     "start_time": "2022-01-21T16:41:39.621726",
     "status": "completed"
    },
    "tags": []
   },
   "outputs": [],
   "source": []
  }
 ],
 "metadata": {
  "kernelspec": {
   "display_name": "Python 3",
   "language": "python",
   "name": "python3"
  },
  "language_info": {
   "codemirror_mode": {
    "name": "ipython",
    "version": 3
   },
   "file_extension": ".py",
   "mimetype": "text/x-python",
   "name": "python",
   "nbconvert_exporter": "python",
   "pygments_lexer": "ipython3",
   "version": "3.7.12"
  },
  "papermill": {
   "default_parameters": {},
   "duration": 14.749308,
   "end_time": "2022-01-21T16:41:40.669560",
   "environment_variables": {},
   "exception": null,
   "input_path": "__notebook__.ipynb",
   "output_path": "__notebook__.ipynb",
   "parameters": {},
   "start_time": "2022-01-21T16:41:25.920252",
   "version": "2.3.3"
  }
 },
 "nbformat": 4,
 "nbformat_minor": 5
}
